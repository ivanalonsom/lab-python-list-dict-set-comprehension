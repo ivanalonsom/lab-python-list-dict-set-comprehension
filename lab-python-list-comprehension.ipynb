{
 "cells": [
  {
   "cell_type": "markdown",
   "id": "25d7736c-ba17-4aff-b6bb-66eba20fbf4e",
   "metadata": {},
   "source": [
    "# Lab | List, Dict and Set Comprehension"
   ]
  },
  {
   "cell_type": "markdown",
   "id": "7dd3cbde-675a-4b81-92c3-f728846dbe06",
   "metadata": {},
   "source": [
    "## Exercise: Managing Customer Orders Optimized with Comprehension"
   ]
  },
  {
   "cell_type": "markdown",
   "id": "5d500160-2fb7-4777-b5e4-09d45ebaf328",
   "metadata": {},
   "source": [
    "In the previous exercise, you developed a program to manage customer orders and inventory. Now, let's take it a step further and incorporate comprehension into your code.\n",
    "\n",
    "Follow the steps below to complete the exercise:\n",
    "\n",
    "1. Review your code from the previous exercise and identify areas where you can apply comprehension to simplify and streamline your code. \n",
    "\n",
    "    - *Hint: Apply it to initialize inventory, updating the inventory and printing the updated inventory.*\n",
    "    \n",
    "    - For example, in initializing the inventory, we could have:\n",
    "    \n",
    "        ```python\n",
    "        def initialize_inventory(products):\n",
    "            inventory = {product: int(input(f\"Enter the quantity of {product}s available: \")) for product in products}\n",
    "            return inventory\n",
    "        ```\n",
    "<br>\n",
    "\n",
    "2. Modify the function get_customer_orders so it prompts the user to enter the number of customer orders and gathers the product names using a loop and user input. Use comprehension.\n",
    "\n",
    "3. Add a new function to calculate the total price of the customer order. For each product in customer_orders, prompt the user to enter the price of that product. Use comprehension to calculate the total price. Note: assume that the user can only have 1 unit of each product.\n",
    "\n",
    "4. Modify the update_inventory function to remove the product from the inventory if its quantity becomes zero after fulfilling the customer orders. Use comprehension to filter out the products with a quantity of zero from the inventory.\n",
    "\n",
    "5. Print the total price of the customer order.\n",
    "\n",
    "Your code should produce output similar to the following:\n",
    "\n",
    "```python\n",
    "Enter the quantity of t-shirts available:  5\n",
    "Enter the quantity of mugs available:  4\n",
    "Enter the quantity of hats available:  3\n",
    "Enter the quantity of books available:  2\n",
    "Enter the quantity of keychains available:  1\n",
    "Enter the number of customer orders:  2\n",
    "Enter the name of a product that a customer wants to order:  hat\n",
    "Enter the name of a product that a customer wants to order:  keychain\n",
    "\n",
    "Order Statistics:\n",
    "Total Products Ordered: 2\n",
    "Percentage of Unique Products Ordered: 40.0\n",
    "\n",
    "Updated Inventory:\n",
    "t-shirt: 5\n",
    "mug: 4\n",
    "hat: 2\n",
    "book: 2\n",
    "Enter the price of keychain:  5\n",
    "Enter the price of hat:  10\n",
    "Total Price: 15.0\n",
    "\n",
    "```\n"
   ]
  },
  {
   "cell_type": "code",
   "execution_count": 73,
   "id": "46447c07",
   "metadata": {},
   "outputs": [],
   "source": [
    "# 0 \n",
    "products = [\"t-shirt\", \"mug\", \"hat\", \"book\", \"keychain\"]\n",
    "\n",
    "customer_orders = set()"
   ]
  },
  {
   "cell_type": "code",
   "execution_count": 74,
   "id": "4b84e3b9",
   "metadata": {},
   "outputs": [
    {
     "data": {
      "text/plain": [
       "{'t-shirt': 3, 'mug': 1, 'hat': 4, 'book': 5, 'keychain': 6}"
      ]
     },
     "execution_count": 74,
     "metadata": {},
     "output_type": "execute_result"
    }
   ],
   "source": [
    "# 1.1\n",
    "def initialize_inventory(products):\n",
    "    inventory = {product: int(input(f\"Enter the quantity of {product}s available: \")) for product in products}\n",
    "    return inventory\n",
    "\n",
    "\n",
    "inventory = initialize_inventory(products)\n",
    "inventory\n"
   ]
  },
  {
   "cell_type": "code",
   "execution_count": 65,
   "id": "87632f7c",
   "metadata": {},
   "outputs": [],
   "source": [
    "# 1.2\n",
    "\n",
    "def update_inventory(customer_orders, inventory):\n",
    "    inventory = {k: inventory[k]-1 if k in customer_orders else v for k, v in inventory.items()}       # v es como poner inventory[k]\n",
    "    return inventory\n",
    "\n",
    "inventory = update_inventory(customer_orders, inventory)\n"
   ]
  },
  {
   "cell_type": "code",
   "execution_count": 63,
   "id": "a742b760",
   "metadata": {},
   "outputs": [
    {
     "name": "stdout",
     "output_type": "stream",
     "text": [
      "{'t-shirt': 3, 'mug': 4, 'hat': 5, 'book': 6, 'keychain': 7}\n"
     ]
    }
   ],
   "source": [
    "# 1.3\n",
    "def print_updated_inventory(inventory):\n",
    "    print(inventory)\n",
    "    \n",
    "print_updated_inventory(inventory)"
   ]
  },
  {
   "cell_type": "code",
   "execution_count": 45,
   "id": "f56d72bf",
   "metadata": {},
   "outputs": [],
   "source": [
    "#2. Modify the function get_customer_orders so it prompts the user to enter the number of customer orders and gathers the product names using a loop and user input. Use comprehension.\n",
    "\n",
    "def get_customer_orders(inventory):\n",
    "    num_orders = int(input(\"Enter the number of customer orders: \"))\n",
    "\n",
    "    customer_orders = {input(\"Enter the product name: \") for x in range(num_orders)}        \n",
    "    # Creo set. El usuario recibirá un input para añadir el nombre de un producto tantas veces como num_orders sea de grande.  Uso {} para evitar duplicados\n",
    "\n",
    "    customer_ordersRevisado = {choice if choice in inventory else input(\"You selected at least one product that is not in the inventory, select a new product that is in it: \") for choice in customer_orders}       \n",
    "    # Creo un set nuevo (podría haberse llamado igual) que chequee que los productos están en el inventario.\n",
    "\n",
    "    return customer_ordersRevisado\n"
   ]
  },
  {
   "cell_type": "code",
   "execution_count": 46,
   "id": "d4fd2ac0",
   "metadata": {},
   "outputs": [],
   "source": [
    "\n",
    "# 3. Add a new function to calculate the total price of the customer order. For each product in customer_orders, prompt the user to enter the price of that product. Use comprehension to calculate the total price. Note: assume that the user can only have 1 unit of each product.\n",
    "\n",
    "def total_price():\n",
    "    order = get_customer_orders(inventory)\n",
    "\n",
    "    prices_sum = sum( float(input(f\"Enter the price of {x}\")) for x in order )\n",
    "\n",
    "    return prices_sum"
   ]
  },
  {
   "cell_type": "code",
   "execution_count": 75,
   "id": "135b0c25",
   "metadata": {},
   "outputs": [
    {
     "data": {
      "text/plain": [
       "{'t-shirt': 3, 'hat': 3, 'book': 5, 'keychain': 6}"
      ]
     },
     "execution_count": 75,
     "metadata": {},
     "output_type": "execute_result"
    }
   ],
   "source": [
    "# 4. Modify the update_inventory function to remove the product from the inventory if its quantity becomes zero after fulfilling the customer orders. Use comprehension to filter out the products with a quantity of zero from the inventory.\n",
    "\n",
    "def update_inventory(customer_orders, inventory):\n",
    "    \n",
    "    customer_orders = get_customer_orders(inventory)\n",
    "\n",
    "    inventory = {k: v - 1 if k in customer_orders and v > 1 else v for k, v in inventory.items() if k not in customer_orders or v > 1}\n",
    "\n",
    "    # Este inventario tiene todas las condiciones para v>1, si es 1 entonces directamente no lo añade que es como si lo borrara en esencia.\n",
    "    # La condicion antes de for decide si tenemos v-1 o v y la condicion de despues del for indica que vamos a añadir todos los pares k:v que no estén en customers orders o que si estén pero que v>1\n",
    "    return inventory\n"
   ]
  },
  {
   "cell_type": "code",
   "execution_count": 76,
   "id": "c48f75e6",
   "metadata": {},
   "outputs": [
    {
     "name": "stdout",
     "output_type": "stream",
     "text": [
      "47.2\n"
     ]
    }
   ],
   "source": [
    "\n",
    "# 5. Print the total price of the customer order.\n",
    "\n",
    "print(total_price())\n"
   ]
  }
 ],
 "metadata": {
  "kernelspec": {
   "display_name": "Python 3 (ipykernel)",
   "language": "python",
   "name": "python3"
  },
  "language_info": {
   "codemirror_mode": {
    "name": "ipython",
    "version": 3
   },
   "file_extension": ".py",
   "mimetype": "text/x-python",
   "name": "python",
   "nbconvert_exporter": "python",
   "pygments_lexer": "ipython3",
   "version": "3.11.9"
  }
 },
 "nbformat": 4,
 "nbformat_minor": 5
}
